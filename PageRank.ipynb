{
 "cells": [
  {
   "cell_type": "markdown",
   "metadata": {},
   "source": [
    "# PageRank\n",
    "\n",
    "[ref1: PageRank算法原理及实现](https://blog.csdn.net/rubinorth/article/details/52215036)  \n",
    "[ref2: Topic PageRank原理](https://blog.csdn.net/hguisu/article/details/8005192)"
   ]
  },
  {
   "cell_type": "markdown",
   "metadata": {},
   "source": [
    "## python-graph-core"
   ]
  },
  {
   "cell_type": "code",
   "execution_count": null,
   "metadata": {},
   "outputs": [],
   "source": [
    "!pip install python-graph-core"
   ]
  },
  {
   "cell_type": "code",
   "execution_count": 2,
   "metadata": {},
   "outputs": [],
   "source": [
    "from pygraph.classes.digraph import digraph"
   ]
  },
  {
   "cell_type": "code",
   "execution_count": 3,
   "metadata": {},
   "outputs": [],
   "source": [
    "dg = digraph()\n",
    "\n",
    "dg.add_nodes([\"A\", \"B\", \"C\", \"D\"])\n",
    "\n",
    "dg.add_edge((\"A\", \"B\"))\n",
    "dg.add_edge((\"A\", \"C\"))\n",
    "dg.add_edge((\"A\", \"D\"))\n",
    "dg.add_edge((\"B\", \"A\"))\n",
    "dg.add_edge((\"B\", \"D\"))\n",
    "dg.add_edge((\"C\", \"C\"))"
   ]
  },
  {
   "cell_type": "code",
   "execution_count": 4,
   "metadata": {},
   "outputs": [
    {
     "data": {
      "text/plain": [
       "'B'"
      ]
     },
     "execution_count": 4,
     "metadata": {},
     "output_type": "execute_result"
    }
   ],
   "source": [
    "dg.nodes()[1]"
   ]
  },
  {
   "cell_type": "markdown",
   "metadata": {},
   "source": [
    "## Page Rank"
   ]
  },
  {
   "cell_type": "code",
   "execution_count": 5,
   "metadata": {},
   "outputs": [],
   "source": [
    "class PageRank:\n",
    "    \n",
    "    def __init__(self, dg):\n",
    "        self.digraph = dg\n",
    "        self.nodes_num = len(dg.nodes())\n",
    "        self.damping_factor = 0.85\n",
    "        self.remain_part = (1 - self.damping_factor) / self.nodes_num\n",
    "        self.threshold = 0.000000000001\n",
    "            \n",
    "        # supply edges\n",
    "        for node in self.digraph:\n",
    "            if(len(self.digraph.neighbors(node)) == 0):\n",
    "                for node2 in self.digraph:\n",
    "                    self.digraph.add_edge((node, node2))\n",
    "    \n",
    "    \n",
    "    def page_rank(self):\n",
    "        # init\n",
    "        pr = dict.fromkeys(self.digraph.nodes(), 1.0 / self.nodes_num) \n",
    "        \n",
    "        # iteration\n",
    "        diff = self.threshold\n",
    "        round = 0\n",
    "        while(diff >= self.threshold):\n",
    "            diff = 0\n",
    "            round += 1\n",
    "            pr_copy = pr.copy()    #set copy to make sure each iteration, the sum of pr value is 1\n",
    "            for node in self.digraph:\n",
    "                cur_points = 0\n",
    "                for in_node in self.digraph.incidents(node):\n",
    "                    cur_points += self.damping_factor * (pr[in_node] / len(self.digraph.neighbors(in_node)))\n",
    "                cur_points += self.remain_part\n",
    "                diff += abs(pr[node] - cur_points)\n",
    "                pr_copy[node] = cur_points\n",
    "                \n",
    "                \n",
    "            pr = pr_copy\n",
    "#             total = 0\n",
    "#             for i in pr.values():\n",
    "#                 total += i         \n",
    "#             print(round, ':', pr, '---------', total)\n",
    "        \n",
    "        return pr"
   ]
  },
  {
   "cell_type": "code",
   "execution_count": 6,
   "metadata": {},
   "outputs": [
    {
     "data": {
      "text/plain": [
       "{'A': 0.10883978486662309,\n",
       " 'B': 0.09801945537695188,\n",
       " 'C': 0.6534630358442265,\n",
       " 'D': 0.13967772391219846}"
      ]
     },
     "execution_count": 6,
     "metadata": {},
     "output_type": "execute_result"
    }
   ],
   "source": [
    "PR = PageRank(dg)\n",
    "pr = PR.page_rank()\n",
    "pr"
   ]
  },
  {
   "cell_type": "markdown",
   "metadata": {},
   "source": [
    "## Topic page rank"
   ]
  },
  {
   "cell_type": "code",
   "execution_count": 7,
   "metadata": {},
   "outputs": [],
   "source": [
    "class TopicPageRank:\n",
    "    \n",
    "    def __init__(self, dg, topic_matrix):\n",
    "        self.digraph = dg\n",
    "        self.nodes_num = len(dg.nodes())\n",
    "        self.damping_factor = 0.85\n",
    "        self.remain_part = (1 - self.damping_factor)     # need topic part\n",
    "        self.threshold = 0.000000000001\n",
    "            \n",
    "        # supply edges\n",
    "        for node in self.digraph:\n",
    "            if(len(self.digraph.neighbors(node)) == 0):\n",
    "                for node2 in self.digraph:\n",
    "                    self.digraph.add_edge((node, node2))\n",
    "    \n",
    "    \n",
    "    def topic_page_rank(self):\n",
    "        # init\n",
    "        pr = dict.fromkeys(self.digraph.nodes(), 1.0 / self.nodes_num) \n",
    "        \n",
    "        pr_list = []\n",
    "        # iteration\n",
    "        for cur_topic in topic_matrix:\n",
    "            diff = self.threshold\n",
    "            round = 0\n",
    "            while(diff >= self.threshold):\n",
    "                diff = 0\n",
    "                round += 1\n",
    "                pr_copy = pr.copy()    #set copy to make sure each iteration, the sum of pr value is 1\n",
    "                for i in range(len(self.digraph)):\n",
    "                    node = self.digraph.nodes()[i]\n",
    "                    cur_points = 0\n",
    "                    for in_node in self.digraph.incidents(node):\n",
    "                        cur_points += self.damping_factor * (pr[in_node] / len(self.digraph.neighbors(in_node)))\n",
    "                    cur_points += self.remain_part * cur_topic[i] / sum(cur_topic)\n",
    "                    diff += abs(pr[node] - cur_points)\n",
    "                    pr_copy[node] = cur_points\n",
    "\n",
    "\n",
    "                pr = pr_copy\n",
    "                \n",
    "            pr_list.append(list(pr.values()))\n",
    "                \n",
    "#                 total = 0\n",
    "#                 for i in pr.values():\n",
    "#                     total += i\n",
    "#                 print(round, ':', pr, '---------', total)\n",
    "        \n",
    "        return pr_list"
   ]
  },
  {
   "cell_type": "code",
   "execution_count": 8,
   "metadata": {},
   "outputs": [
    {
     "data": {
      "text/plain": [
       "[[0.06492197693812396,\n",
       "  0.11109932426005663,\n",
       "  0.7406621617311886,\n",
       "  0.08331653707063072],\n",
       " [0.21300136845316933,\n",
       "  0.08656263591689722,\n",
       "  0.5770842394484029,\n",
       "  0.1233517561815305]]"
      ]
     },
     "execution_count": 8,
     "metadata": {},
     "output_type": "execute_result"
    }
   ],
   "source": [
    "#topic matrix's size is web_nums*topic_nums\n",
    "topic_matrix = [[0, 1, 1, 0], [1, 0, 0, 0]]\n",
    "\n",
    "Topic_PR = TopicPageRank(dg, topic_matrix)\n",
    "topic_pr = Topic_PR.topic_page_rank()\n",
    "topic_pr"
   ]
  },
  {
   "cell_type": "code",
   "execution_count": 9,
   "metadata": {},
   "outputs": [
    {
     "data": {
      "text/plain": [
       "[0.15376961184715118,\n",
       " 0.09637731125416099,\n",
       " 0.6425154083615172,\n",
       " 0.1073376685371706]"
      ]
     },
     "execution_count": 9,
     "metadata": {},
     "output_type": "execute_result"
    }
   ],
   "source": [
    "user_prefer = [0.4, 0.6]\n",
    "\n",
    "final_rank = []\n",
    "for i in range(len(topic_pr[0])):\n",
    "    web_rank = 0\n",
    "    for j in range(len(user_prefer)):\n",
    "        web_rank += topic_pr[j][i] * user_prefer[j]\n",
    "    final_rank.append(web_rank)\n",
    "\n",
    "final_rank"
   ]
  },
  {
   "cell_type": "code",
   "execution_count": null,
   "metadata": {},
   "outputs": [],
   "source": []
  }
 ],
 "metadata": {
  "kernelspec": {
   "display_name": "Python 3",
   "language": "python",
   "name": "python3"
  },
  "language_info": {
   "codemirror_mode": {
    "name": "ipython",
    "version": 3
   },
   "file_extension": ".py",
   "mimetype": "text/x-python",
   "name": "python",
   "nbconvert_exporter": "python",
   "pygments_lexer": "ipython3",
   "version": "3.7.0"
  }
 },
 "nbformat": 4,
 "nbformat_minor": 2
}
